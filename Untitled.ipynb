{
 "cells": [
  {
   "cell_type": "code",
   "execution_count": 293,
   "metadata": {},
   "outputs": [],
   "source": [
    "# Members who visited the gym most often earned an average income of $80,300.\n",
    "# Fifty percent of members surveyed said that they stayed with their current gym based on the convenience of its location, while 38 percent agreed that the equipment was worth sticking around for.\n",
    "# Approximately 44 percent of gym-goers are exercising with one other person, according to the report.\n",
    "# In fact, the number of members who use trainers is just 12.5 percent.\n",
    "# "
   ]
  },
  {
   "cell_type": "code",
   "execution_count": 294,
   "metadata": {},
   "outputs": [],
   "source": [
    "import pandas as pd\n",
    "import numpy as np\n",
    "import seaborn as sns\n",
    "import matplotlib.pyplot as plt\n",
    "from sklearn.neighbors import KNeighborsClassifier\n",
    "from sklearn.model_selection import train_test_split"
   ]
  },
  {
   "cell_type": "code",
   "execution_count": 295,
   "metadata": {},
   "outputs": [],
   "source": [
    "affiliates = pd.read_csv('affiliates.csv')\n",
    "cfprices = pd.read_csv('cfprices.csv')\n",
    "income = pd.read_csv('data.csv')\n",
    "abbv = pd.read_csv('statesabv.csv')"
   ]
  },
  {
   "cell_type": "markdown",
   "metadata": {},
   "source": [
    "Affiliates has only two columns but the 'LOCATION' column needs to be separated to create 'city' and 'state'. "
   ]
  },
  {
   "cell_type": "code",
   "execution_count": 296,
   "metadata": {},
   "outputs": [],
   "source": [
    "affiliates['city'] = affiliates['LOCATION'].apply(lambda x: x.split(',')[0])\n",
    "affiliates['state'] = affiliates['LOCATION'].apply(lambda x: x.split(',')[1])\n",
    "affiliates.drop(columns='LOCATION', inplace=True)"
   ]
  },
  {
   "cell_type": "markdown",
   "metadata": {},
   "source": [
    "The columns in the income dataframe must be adjusted and renamed. This will allow a merge and standaridized names. "
   ]
  },
  {
   "cell_type": "code",
   "execution_count": 297,
   "metadata": {},
   "outputs": [],
   "source": [
    "income.rename(columns={'State': 'state', 'Population': 'population', 'HouseholdIncome': 'income'}, inplace=True)\n",
    "# standardizing the capitalization of the dataframes below to allow a merge\n",
    "income['state'] = income['state'].apply(lambda x: x.lower())\n",
    "abbv['state'] = abbv['state'].apply(lambda x: x.lower())\n",
    "abbv['state_id'] = abbv['state'].index\n",
    "# merged the two and dropped the unnecessary columns\n",
    "income = income.merge(abbv, on ='state', how='left').drop(columns=['rank', 'state'])\n",
    "# renaming the new abbreviated state name column as 'state' and dropping all NaN values were DC\n",
    "income.rename(columns={'abbv': 'state'}, inplace=True)\n",
    "# update the missing value for District of Columbia as DC\n",
    "income.iloc[0, 2] = 'DC'\n"
   ]
  },
  {
   "cell_type": "code",
   "execution_count": 298,
   "metadata": {},
   "outputs": [],
   "source": [
    "# make all column names lower case\n",
    "cfprices.columns = map(str.lower, cfprices.columns)\n",
    "cfprices = cfprices.drop(columns=['currency', 'email', 'box name'])\n",
    "workdf = cfprices.merge(income, how='left', on='state')"
   ]
  },
  {
   "cell_type": "markdown",
   "metadata": {},
   "source": [
    "The cfprices dataset has a significant amount of data we do not need and also"
   ]
  },
  {
   "cell_type": "code",
   "execution_count": 299,
   "metadata": {},
   "outputs": [],
   "source": [
    "# only interested in the US population\n",
    "workdf = workdf[workdf['country']=='United States']\n",
    "#  \n",
    "workdf['price'] = workdf['price'].apply(lambda x: x.replace('$',\"\").strip())\n",
    "workdf['price'] = workdf[\"price\"].apply(lambda x: ''.join([\" \" if ord(i) < 32 or ord(i) > 126 else i for i in x])).astype('float64')\n",
    "# \n",
    "workdf = workdf[pd.notna(workdf['population'])]\n",
    "workdf = workdf[(workdf['type']!='Other') & (workdf['type']!='Weightlifting') & (workdf['type']!='Open Gym')]"
   ]
  },
  {
   "cell_type": "code",
   "execution_count": 300,
   "metadata": {},
   "outputs": [
    {
     "name": "stdout",
     "output_type": "stream",
     "text": [
      "<class 'pandas.core.frame.DataFrame'>\n",
      "Int64Index: 937 entries, 0 to 1387\n",
      "Data columns (total 8 columns):\n",
      " #   Column      Non-Null Count  Dtype  \n",
      "---  ------      --------------  -----  \n",
      " 0   city        934 non-null    object \n",
      " 1   state       937 non-null    object \n",
      " 2   price       937 non-null    float64\n",
      " 3   type        937 non-null    object \n",
      " 4   country     937 non-null    object \n",
      " 5   population  937 non-null    float64\n",
      " 6   income      937 non-null    float64\n",
      " 7   state_id    936 non-null    float64\n",
      "dtypes: float64(4), object(4)\n",
      "memory usage: 65.9+ KB\n"
     ]
    }
   ],
   "source": [
    "workdf.info()"
   ]
  },
  {
   "cell_type": "markdown",
   "metadata": {},
   "source": []
  },
  {
   "cell_type": "code",
   "execution_count": 301,
   "metadata": {},
   "outputs": [],
   "source": [
    "# standardizes the values for the type\n",
    "def change_type(x):\n",
    "    if x == 'Unlimited':\n",
    "        return 'Unlimited'\n",
    "    elif x == '3 days/week':\n",
    "        return '3xpw'\n",
    "    elif x == 'unlimited':\n",
    "        return 'Unlimited'\n",
    "    elif x == '4 days/week':\n",
    "        return '4xpw'\n",
    "    elif x == '2 days/week':\n",
    "        return '2xpw'\n",
    "    elif x == '5 days/week':\n",
    "        return '5xpw'\n",
    "    elif x == 'Unlimited Couple':\n",
    "        return 'Unlimited'\n",
    "    elif x == 'Unlimited Family':\n",
    "        return 'Unlimited'\n",
    "    elif x == '3x per week':\n",
    "        return '3xpw'\n",
    "    elif x == 'Unlimited (grandfathered in at this price)':\n",
    "        return 'Unlimited - Exception'\n",
    "    elif x == 'Punch Card (10 classes)':\n",
    "        return '10 Classes'\n",
    "    elif x == '3x a week':\n",
    "        return '3xpw'\n",
    "\n",
    "workdf['type'] = workdf['type'].apply(lambda x: change_type(x))\n"
   ]
  },
  {
   "cell_type": "code",
   "execution_count": 302,
   "metadata": {},
   "outputs": [],
   "source": [
    "# create a numerical id for the different types\n",
    "type_ids = workdf['type'].value_counts().reset_index()\n",
    "type_ids.drop(columns='type', inplace=True)\n",
    "type_ids.rename(columns=({'index':'type'}), inplace=True)\n",
    "type_ids['member_type_id'] = type_ids.index\n"
   ]
  },
  {
   "cell_type": "code",
   "execution_count": 303,
   "metadata": {},
   "outputs": [],
   "source": [
    "\n",
    "workdf = workdf.merge(type_ids, how='left', on='type')\n"
   ]
  },
  {
   "cell_type": "code",
   "execution_count": 304,
   "metadata": {},
   "outputs": [],
   "source": [
    "# yearly cost of a membership\n",
    "workdf['yearly_cost'] = workdf['price'].apply(lambda x: x*12)\n",
    "# percent of income\n",
    "workdf['income_percent'] = round((workdf['yearly_cost']/workdf['income'])*100,2)\n",
    "# if gym membership is below 2.75% the person will be likely to join given an average salary state; 0 = No; 1 = Yes\n",
    "workdf['join_probability'] = workdf['income_percent'].apply(lambda x: 1 if x <= 2.75 else 0)\n",
    "workdf = workdf[pd.notna(workdf['state_id'])]\n",
    "workdf = workdf[pd.notna(workdf['member_type_id'])]\n"
   ]
  },
  {
   "cell_type": "code",
   "execution_count": 305,
   "metadata": {
    "scrolled": true
   },
   "outputs": [
    {
     "name": "stdout",
     "output_type": "stream",
     "text": [
      "Train Score (n=3): 0.9771754636233951\n",
      "Test Score(n=3): 0.9358974358974359\n"
     ]
    }
   ],
   "source": [
    "# creating our data selection\n",
    "X = np.array(workdf[['state_id', 'member_type_id','price','income']])\n",
    "y = np.array(workdf['join_probability'])\n",
    "X_train, X_test, y_train, y_test = train_test_split(X, y, random_state=0)\n",
    "\n",
    "clf = KNeighborsClassifier(n_neighbors=2)\n",
    "clf.fit(X_train, y_train)\n",
    "clf.predict(X_test)\n",
    "print('Train Score (n=3):', clf.score(X_train, y_train))\n",
    "print('Test Score(n=3):', clf.score(X_test, y_test))"
   ]
  },
  {
   "cell_type": "code",
   "execution_count": 312,
   "metadata": {},
   "outputs": [
    {
     "data": {
      "text/html": [
       "<div>\n",
       "<style scoped>\n",
       "    .dataframe tbody tr th:only-of-type {\n",
       "        vertical-align: middle;\n",
       "    }\n",
       "\n",
       "    .dataframe tbody tr th {\n",
       "        vertical-align: top;\n",
       "    }\n",
       "\n",
       "    .dataframe thead th {\n",
       "        text-align: right;\n",
       "    }\n",
       "</style>\n",
       "<table border=\"1\" class=\"dataframe\">\n",
       "  <thead>\n",
       "    <tr style=\"text-align: right;\">\n",
       "      <th></th>\n",
       "      <th>state_id</th>\n",
       "      <th>type</th>\n",
       "      <th>member_type_id</th>\n",
       "      <th>income</th>\n",
       "    </tr>\n",
       "  </thead>\n",
       "  <tbody>\n",
       "    <tr>\n",
       "      <th>0</th>\n",
       "      <td>41.0</td>\n",
       "      <td>Unlimited</td>\n",
       "      <td>0.0</td>\n",
       "      <td>50972.0</td>\n",
       "    </tr>\n",
       "    <tr>\n",
       "      <th>1</th>\n",
       "      <td>20.0</td>\n",
       "      <td>Unlimited</td>\n",
       "      <td>0.0</td>\n",
       "      <td>77378.0</td>\n",
       "    </tr>\n",
       "    <tr>\n",
       "      <th>2</th>\n",
       "      <td>5.0</td>\n",
       "      <td>Unlimited</td>\n",
       "      <td>0.0</td>\n",
       "      <td>68811.0</td>\n",
       "    </tr>\n",
       "    <tr>\n",
       "      <th>3</th>\n",
       "      <td>29.0</td>\n",
       "      <td>3xpw</td>\n",
       "      <td>1.0</td>\n",
       "      <td>79363.0</td>\n",
       "    </tr>\n",
       "    <tr>\n",
       "      <th>4</th>\n",
       "      <td>20.0</td>\n",
       "      <td>Unlimited</td>\n",
       "      <td>0.0</td>\n",
       "      <td>77378.0</td>\n",
       "    </tr>\n",
       "    <tr>\n",
       "      <th>...</th>\n",
       "      <td>...</td>\n",
       "      <td>...</td>\n",
       "      <td>...</td>\n",
       "      <td>...</td>\n",
       "    </tr>\n",
       "    <tr>\n",
       "      <th>932</th>\n",
       "      <td>4.0</td>\n",
       "      <td>Unlimited</td>\n",
       "      <td>0.0</td>\n",
       "      <td>71228.0</td>\n",
       "    </tr>\n",
       "    <tr>\n",
       "      <th>933</th>\n",
       "      <td>42.0</td>\n",
       "      <td>Unlimited</td>\n",
       "      <td>0.0</td>\n",
       "      <td>59570.0</td>\n",
       "    </tr>\n",
       "    <tr>\n",
       "      <th>934</th>\n",
       "      <td>4.0</td>\n",
       "      <td>Unlimited</td>\n",
       "      <td>0.0</td>\n",
       "      <td>71228.0</td>\n",
       "    </tr>\n",
       "    <tr>\n",
       "      <th>935</th>\n",
       "      <td>31.0</td>\n",
       "      <td>Unlimited</td>\n",
       "      <td>0.0</td>\n",
       "      <td>65323.0</td>\n",
       "    </tr>\n",
       "    <tr>\n",
       "      <th>936</th>\n",
       "      <td>31.0</td>\n",
       "      <td>Unlimited</td>\n",
       "      <td>0.0</td>\n",
       "      <td>65323.0</td>\n",
       "    </tr>\n",
       "  </tbody>\n",
       "</table>\n",
       "<p>935 rows × 4 columns</p>\n",
       "</div>"
      ],
      "text/plain": [
       "     state_id       type  member_type_id   income\n",
       "0        41.0  Unlimited             0.0  50972.0\n",
       "1        20.0  Unlimited             0.0  77378.0\n",
       "2         5.0  Unlimited             0.0  68811.0\n",
       "3        29.0       3xpw             1.0  79363.0\n",
       "4        20.0  Unlimited             0.0  77378.0\n",
       "..        ...        ...             ...      ...\n",
       "932       4.0  Unlimited             0.0  71228.0\n",
       "933      42.0  Unlimited             0.0  59570.0\n",
       "934       4.0  Unlimited             0.0  71228.0\n",
       "935      31.0  Unlimited             0.0  65323.0\n",
       "936      31.0  Unlimited             0.0  65323.0\n",
       "\n",
       "[935 rows x 4 columns]"
      ]
     },
     "execution_count": 312,
     "metadata": {},
     "output_type": "execute_result"
    }
   ],
   "source": [
    "\n",
    "workdf[['state_id','type', 'member_type_id', 'income']]"
   ]
  },
  {
   "cell_type": "code",
   "execution_count": 328,
   "metadata": {},
   "outputs": [
    {
     "name": "stdout",
     "output_type": "stream",
     "text": [
      "Will join!\n"
     ]
    }
   ],
   "source": [
    "# person lives in Florida (8.0), attends 3x per week, price is 180 for membership, and their income is 75000\n",
    "test = [np.array([8.0, 1.0, 180.0, 150000 ])]\n",
    "if clf.predict((test)) == [0]:\n",
    "    print('Will not join')\n",
    "else:\n",
    "    print('Will join!')"
   ]
  },
  {
   "cell_type": "markdown",
   "metadata": {},
   "source": [
    "<br>Training Scores for differnt values of n on the classifier method\n",
    "<br>\n",
    "<br>Overfitting\n",
    "<br>Train Score (n=1): 1.0\n",
    "<br>Test Score(n=1): 0.9743589743589743\n",
    "<br>\n",
    "<br>Chosen\n",
    "<br>Train Score (n=2): 0.9757489300998573\n",
    "<br>Test Score(n=2): 0.9487179487179487\n",
    "<br>\n",
    "<br>Second Best\n",
    "<br>Train Score (n=3): 0.9771754636233951\n",
    "<br>Test Score(n=3): 0.9358974358974359\n",
    "<br>\n",
    "<br>Underfitting\n",
    "<br>Train Score (n=5): 0.9529243937232525\n",
    "<br>Test Score(n=5): 0.9188034188034188\n",
    "<br>\n",
    "<br>Underfitting\n",
    "<br>Train Score (n=7): 0.948644793152639\n",
    "<br>Test Score(n=7): 0.9188034188034188"
   ]
  },
  {
   "cell_type": "markdown",
   "metadata": {},
   "source": [
    "# Add column which says the average age of each state use below to classify state age\n",
    "# add column which adds obesity rate \n",
    "https://rallyfitness.com/blogs/news/16063884-latest-crossfit-market-research-data\n",
    "Under 18: 18%\n",
    "\n",
    "18 - 24   :  6%\n",
    "\n",
    "25 - 34   : 40%\n",
    "\n",
    "35 - 44   : 20%\n",
    "\n",
    "45 - 54   :  8%\n",
    "\n",
    "55 - 64   :  2%\n",
    "\n",
    "65+        :  5%"
   ]
  },
  {
   "cell_type": "code",
   "execution_count": null,
   "metadata": {},
   "outputs": [],
   "source": []
  }
 ],
 "metadata": {
  "kernelspec": {
   "display_name": "Python 3",
   "language": "python",
   "name": "python3"
  },
  "language_info": {
   "codemirror_mode": {
    "name": "ipython",
    "version": 3
   },
   "file_extension": ".py",
   "mimetype": "text/x-python",
   "name": "python",
   "nbconvert_exporter": "python",
   "pygments_lexer": "ipython3",
   "version": "3.7.6"
  }
 },
 "nbformat": 4,
 "nbformat_minor": 4
}

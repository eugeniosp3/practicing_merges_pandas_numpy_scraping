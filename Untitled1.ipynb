{
 "cells": [
  {
   "cell_type": "code",
   "execution_count": 1,
   "metadata": {},
   "outputs": [],
   "source": [
    "import statistics as stats\n"
   ]
  },
  {
   "cell_type": "code",
   "execution_count": 18,
   "metadata": {},
   "outputs": [
    {
     "name": "stdout",
     "output_type": "stream",
     "text": [
      "mean: 3\n",
      "0\n",
      "D: -2\n",
      "T: -2\n",
      "-2\n",
      "D: -2\n",
      "T: -4\n",
      "-4\n",
      "D: -2\n",
      "T: -6\n",
      "-6\n",
      "D: -2\n",
      "T: -8\n",
      "-8\n",
      "D: -2\n",
      "T: -10\n",
      "-10\n",
      "D: -2\n",
      "T: -12\n",
      "-12\n",
      "D: -2\n",
      "T: -14\n",
      "-14\n",
      "D: -2\n",
      "T: -16\n",
      "-16\n",
      "D: -2\n",
      "T: -18\n",
      "-18\n",
      "D: 18\n",
      "T: 0\n"
     ]
    }
   ],
   "source": [
    "C = [1,1,1,1,1,1,1,1,1,21]\n",
    "\n",
    "l = stats.mean(C)\n",
    "print('mean:', l)\n",
    "total = 0\n",
    "for x in C:\n",
    "    \n",
    "    print(total)\n",
    "    diff = x - l\n",
    "    print('D:', diff)\n",
    "    total += diff\n",
    "    print('T:', total)\n",
    "    "
   ]
  },
  {
   "cell_type": "code",
   "execution_count": null,
   "metadata": {},
   "outputs": [],
   "source": []
  }
 ],
 "metadata": {
  "kernelspec": {
   "display_name": "Python 3",
   "language": "python",
   "name": "python3"
  },
  "language_info": {
   "codemirror_mode": {
    "name": "ipython",
    "version": 3
   },
   "file_extension": ".py",
   "mimetype": "text/x-python",
   "name": "python",
   "nbconvert_exporter": "python",
   "pygments_lexer": "ipython3",
   "version": "3.7.6"
  }
 },
 "nbformat": 4,
 "nbformat_minor": 4
}
